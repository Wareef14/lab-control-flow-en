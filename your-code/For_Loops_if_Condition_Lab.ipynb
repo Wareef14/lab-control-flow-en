{
  "cells": [
    {
      "cell_type": "markdown",
      "metadata": {
        "id": "od1yO___6lyP"
      },
      "source": [
        "## Words"
      ]
    },
    {
      "cell_type": "code",
      "execution_count": 1,
      "metadata": {
        "id": "1SMdkJ-J6lyQ"
      },
      "outputs": [],
      "source": [
        "words = ['play', 'filling', 'bar', 'theatre', 'easygoing', 'date', 'lead', 'that', 'story',  'island']"
      ]
    },
    {
      "cell_type": "markdown",
      "metadata": {
        "id": "dVveF8hG6lyR"
      },
      "source": [
        "**Print every word in upper case**"
      ]
    },
    {
      "cell_type": "code",
      "execution_count": 2,
      "metadata": {
        "colab": {
          "base_uri": "https://localhost:8080/"
        },
        "id": "3f81ZaS96lyS",
        "outputId": "b4382e9c-6a74-4ed9-fe84-b8ca39d5dae2"
      },
      "outputs": [
        {
          "output_type": "stream",
          "name": "stdout",
          "text": [
            "PLAY\n",
            "FILLING\n",
            "BAR\n",
            "THEATRE\n",
            "EASYGOING\n",
            "DATE\n",
            "LEAD\n",
            "THAT\n",
            "STORY\n",
            "ISLAND\n"
          ]
        }
      ],
      "source": [
        "# we will Iterate through each word in the list\n",
        "for word in words:\n",
        "    # Convert the word to uppercase by using upper function and print it all\n",
        "    print(word.upper())"
      ]
    },
    {
      "cell_type": "markdown",
      "metadata": {
        "id": "GDVIYuyY6lyS"
      },
      "source": [
        "**Create a new list containing only words with 5 or more letters**"
      ]
    },
    {
      "cell_type": "code",
      "execution_count": 7,
      "metadata": {
        "colab": {
          "base_uri": "https://localhost:8080/"
        },
        "id": "kQquH2Ow6lyS",
        "outputId": "3e3c88a2-da9b-48ef-947d-b476fe8381f5"
      },
      "outputs": [
        {
          "output_type": "stream",
          "name": "stdout",
          "text": [
            "Words with 5 or more letters is: ['filling', 'theatre', 'easygoing', 'story', 'island']\n"
          ]
        }
      ],
      "source": [
        "# We'll create a new list to store the words that have 5 or more letters\n",
        "filtered_words_min_length = []  # Unique and descriptive name for the filtered list\n",
        "\n",
        "# Next, we'll loop through each word in the original list\n",
        "for word in words:\n",
        "    # For each word, we'll check if its length is 5 or more\n",
        "    if len(word) >= 5:\n",
        "        # If it is, we'll add it to our new list\n",
        "        filtered_words_min_length.append(word)\n",
        "\n",
        "# Finally, let's print the new list to see the result\n",
        "print(\"Words with 5 or more letters is:\", filtered_words_min_length)"
      ]
    },
    {
      "cell_type": "markdown",
      "metadata": {
        "id": "33eb7cU66lyS"
      },
      "source": [
        "**Print the first word starting with \"t\"**"
      ]
    },
    {
      "cell_type": "code",
      "execution_count": 9,
      "metadata": {
        "colab": {
          "base_uri": "https://localhost:8080/"
        },
        "id": "4xJy1-sc6lyT",
        "outputId": "c59c0ddd-87ac-4738-c406-7bef07117aa7"
      },
      "outputs": [
        {
          "output_type": "stream",
          "name": "stdout",
          "text": [
            "First word starting with 't' is: theatre\n"
          ]
        }
      ],
      "source": [
        "# let's find and print the first word starting with \"t\"\n",
        "first_word_starting_with_t = None  # Unique variable to store the first word starting with \"t\"\n",
        "\n",
        "# Loop through the original list to find the first word starting with \"t\"\n",
        "for word in words:\n",
        "    if word.startswith('t'):  # Check if the word starts with \"t\"\n",
        "        first_word_starting_with_t = word  # Store the word\n",
        "        break  # Exit the loop once we find the first match\n",
        "\n",
        "# Print the result\n",
        "if first_word_starting_with_t:\n",
        "    print(\"First word starting with 't' is:\", first_word_starting_with_t)\n",
        "else:\n",
        "    print(\"No word starting with 't' found.\")"
      ]
    },
    {
      "cell_type": "markdown",
      "metadata": {
        "id": "6x9RQ59H6lyT"
      },
      "source": [
        "## Numbers"
      ]
    },
    {
      "cell_type": "markdown",
      "metadata": {
        "id": "e7Ol1NBt6lyT"
      },
      "source": [
        "**Create a list containing the square of every number from 1 to 10**"
      ]
    },
    {
      "cell_type": "code",
      "execution_count": 11,
      "metadata": {
        "colab": {
          "base_uri": "https://localhost:8080/"
        },
        "id": "pWmcVdUC6lyT",
        "outputId": "99067972-b7e1-4662-f440-e79385c32d85"
      },
      "outputs": [
        {
          "output_type": "stream",
          "name": "stdout",
          "text": [
            "Squares of numbers from 1 to 10 is: [1, 4, 9, 16, 25, 36, 49, 64, 81, 100]\n"
          ]
        }
      ],
      "source": [
        "# First, let's define the range of numbers we want to square (from 1 to 10)\n",
        "numbers_to_square = range(1, 11)  # Unique and descriptive name for the range\n",
        "\n",
        "# Now, we'll create an empty list to store the squared numbers\n",
        "squared_numbers_list = []  # Unique and descriptive name for the list of squared numbers\n",
        "\n",
        "# Next, we'll loop through each number in the range\n",
        "for number in numbers_to_square:\n",
        "    # For each number, calculate its square and add it to the list\n",
        "    squared_numbers_list.append(number ** 2)  # Using the exponent operator ** to square the number\n",
        "\n",
        "# Finally, let's print the list of squared numbers\n",
        "print(\"Squares of numbers from 1 to 10 is:\", squared_numbers_list)"
      ]
    },
    {
      "cell_type": "markdown",
      "metadata": {
        "id": "be7Z4Voo6lyT"
      },
      "source": [
        "**Print a list containing the square of every odd number from 1 to 10**"
      ]
    },
    {
      "cell_type": "code",
      "execution_count": 13,
      "metadata": {
        "colab": {
          "base_uri": "https://localhost:8080/"
        },
        "id": "Rv0MjT9_6lyT",
        "outputId": "b2eed0e4-d32a-443f-f2ba-3178bef92bcd"
      },
      "outputs": [
        {
          "output_type": "stream",
          "name": "stdout",
          "text": [
            "[1, 9, 25, 49, 81]\n"
          ]
        }
      ],
      "source": [
        "# Let's create a list that stores the squares of all the odd numbers between 1 and 10.\n",
        "# We'll use a list comprehension to make this quick and clean.\n",
        "squares_of_odd_numbers = [num**2 for num in range(1, 11) if num % 2 != 0]\n",
        "\n",
        "# Now, let's print the list to see the results.\n",
        "print(squares_of_odd_numbers)"
      ]
    },
    {
      "cell_type": "markdown",
      "metadata": {
        "id": "Y2Ui_mt66lyU"
      },
      "source": [
        "**Create a list with the squares of all multiples of 8 below 1000**"
      ]
    },
    {
      "cell_type": "code",
      "execution_count": 14,
      "metadata": {
        "colab": {
          "base_uri": "https://localhost:8080/"
        },
        "id": "oTy5QCuY6lyU",
        "outputId": "30281d13-793e-490e-92c7-5e359fc4e5a0"
      },
      "outputs": [
        {
          "output_type": "stream",
          "name": "stdout",
          "text": [
            "[64, 256, 576, 1024, 1600, 2304, 3136, 4096, 5184, 6400, 7744, 9216, 10816, 12544, 14400, 16384, 18496, 20736, 23104, 25600, 28224, 30976, 33856, 36864, 40000, 43264, 46656, 50176, 53824, 57600, 61504, 65536, 69696, 73984, 78400, 82944, 87616, 92416, 97344, 102400, 107584, 112896, 118336, 123904, 129600, 135424, 141376, 147456, 153664, 160000, 166464, 173056, 179776, 186624, 193600, 200704, 207936, 215296, 222784, 230400, 238144, 246016, 254016, 262144, 270400, 278784, 287296, 295936, 304704, 313600, 322624, 331776, 341056, 350464, 360000, 369664, 379456, 389376, 399424, 409600, 419904, 430336, 440896, 451584, 462400, 473344, 484416, 495616, 506944, 518400, 529984, 541696, 553536, 565504, 577600, 589824, 602176, 614656, 627264, 640000, 652864, 665856, 678976, 692224, 705600, 719104, 732736, 746496, 760384, 774400, 788544, 802816, 817216, 831744, 846400, 861184, 876096, 891136, 906304, 921600, 937024, 952576, 968256, 984064]\n"
          ]
        }
      ],
      "source": [
        "# Let's create a list that stores the squares of all multiples of 8 below 1000.\n",
        "# We'll use a list comprehension to keep it simple and efficient.\n",
        "squares_of_multiples_of_8 = [num**2 for num in range(8, 1000, 8)]\n",
        "\n",
        "# Now, let's print the list to see the results.\n",
        "print(squares_of_multiples_of_8)"
      ]
    },
    {
      "cell_type": "markdown",
      "metadata": {
        "id": "A7cVvTrf6lyU"
      },
      "source": [
        "## People"
      ]
    },
    {
      "cell_type": "code",
      "execution_count": 16,
      "metadata": {
        "id": "pAaTpM-C6lyU"
      },
      "outputs": [],
      "source": [
        "people = [\n",
        "    {\n",
        "        \"name\": \"Juan\",\n",
        "        \"age\": 34,\n",
        "        \"n_kids\": 2\n",
        "    },\n",
        "    {\n",
        "        \"name\": \"Pepe\",\n",
        "        \"age\": 27,\n",
        "        \"n_kids\": 0\n",
        "    },\n",
        "    {\n",
        "        \"name\": \"Sonia\",\n",
        "        \"age\": 41,\n",
        "        \"n_kids\": 1\n",
        "    },\n",
        "    {\n",
        "        \"name\": \"Lucía\",\n",
        "        \"age\": 22,\n",
        "        \"n_kids\": 2\n",
        "    },\n",
        "    {\n",
        "        \"name\": \"Leo\",\n",
        "        \"age\": 55,\n",
        "        \"n_kids\": 5\n",
        "    }\n",
        "]"
      ]
    },
    {
      "cell_type": "markdown",
      "metadata": {
        "id": "SuHuAg5Y6lyU"
      },
      "source": [
        "**How many people are there?**"
      ]
    },
    {
      "cell_type": "code",
      "execution_count": 17,
      "metadata": {
        "colab": {
          "base_uri": "https://localhost:8080/"
        },
        "id": "MLyKzUQJ6lyV",
        "outputId": "ed65193c-f461-4160-8162-b5f94725a937"
      },
      "outputs": [
        {
          "output_type": "stream",
          "name": "stdout",
          "text": [
            "There are 5 people in the list.\n"
          ]
        }
      ],
      "source": [
        "# To find out how many people are in the list, we can use the `len()` function.\n",
        "number_of_people = len(people)\n",
        "\n",
        "# Let's print the result to see how many people there are.\n",
        "print(f\"There are {number_of_people} people in the list.\")"
      ]
    },
    {
      "cell_type": "markdown",
      "metadata": {
        "id": "3pfEyx836lyV"
      },
      "source": [
        "**How many people have kids**?"
      ]
    },
    {
      "cell_type": "code",
      "execution_count": 18,
      "metadata": {
        "colab": {
          "base_uri": "https://localhost:8080/"
        },
        "id": "dUilgD9l6lyV",
        "outputId": "fe5066f5-598e-4152-bb67-8aef573b505b"
      },
      "outputs": [
        {
          "output_type": "stream",
          "name": "stdout",
          "text": [
            "There are 4 people who have kids.\n"
          ]
        }
      ],
      "source": [
        "# To find out how many people have kids, we'll count those with `n_kids` greater than 0.\n",
        "people_with_kids = [person for person in people if person[\"n_kids\"] > 0]\n",
        "\n",
        "# Now, let's use `len()` to count how many people have kids.\n",
        "number_of_people_with_kids = len(people_with_kids)\n",
        "\n",
        "# Let's print the result to see how many people have kids :) .\n",
        "print(f\"There are {number_of_people_with_kids} people who have kids.\")"
      ]
    },
    {
      "cell_type": "markdown",
      "metadata": {
        "id": "yi8GxHG36lyV"
      },
      "source": [
        "**How many kids do they have in total?**"
      ]
    },
    {
      "cell_type": "code",
      "execution_count": 19,
      "metadata": {
        "colab": {
          "base_uri": "https://localhost:8080/"
        },
        "id": "LnyIzEsH6lyW",
        "outputId": "3678d596-da1e-49c2-c14e-15e667644255"
      },
      "outputs": [
        {
          "output_type": "stream",
          "name": "stdout",
          "text": [
            "They have a total of 10 kids.\n"
          ]
        }
      ],
      "source": [
        "# To find the total number of kids, we'll sum up the `n_kids` value for each person.\n",
        "total_number_of_kids = sum(person[\"n_kids\"] for person in people)\n",
        "\n",
        "# Let's print the result to see the total number of kids.\n",
        "print(f\"They have a total of {total_number_of_kids} kids.\")"
      ]
    },
    {
      "cell_type": "markdown",
      "metadata": {
        "id": "shUzuA8_6lyW"
      },
      "source": [
        "**In a year's time, names ending with \"a\" will have an extra kid. Create a list of dictionaries with people's info in a year's time**"
      ]
    },
    {
      "cell_type": "code",
      "execution_count": 20,
      "metadata": {
        "colab": {
          "base_uri": "https://localhost:8080/"
        },
        "id": "lFsog19q6lyW",
        "outputId": "cf066876-0a7b-4d5f-a9da-ee01564c5773"
      },
      "outputs": [
        {
          "output_type": "stream",
          "name": "stdout",
          "text": [
            "People's info in a year's time:\n",
            "[{'name': 'Juan', 'age': 35, 'n_kids': 2}, {'name': 'Pepe', 'age': 28, 'n_kids': 0}, {'name': 'Sonia', 'age': 42, 'n_kids': 2}, {'name': 'Lucía', 'age': 23, 'n_kids': 3}, {'name': 'Leo', 'age': 56, 'n_kids': 5}]\n"
          ]
        }
      ],
      "source": [
        "# Let's create a new list to store the updated information for each person in a year's time.\n",
        "people_in_a_year = []\n",
        "\n",
        "# We'll loop through each person in the original list and update their info.\n",
        "for person in people:\n",
        "    # Create a copy of the person's dictionary to avoid modifying the original.\n",
        "    updated_person = person.copy()\n",
        "\n",
        "    # Increase the person's age by 1.\n",
        "    updated_person[\"age\"] += 1\n",
        "\n",
        "    # If the person's name ends with \"a\", add an extra kid.\n",
        "    if updated_person[\"name\"].endswith(\"a\"):\n",
        "        updated_person[\"n_kids\"] += 1\n",
        "\n",
        "    # Add the updated person to the new list.\n",
        "    people_in_a_year.append(updated_person)\n",
        "\n",
        "# Let's print the updated list to see the changes.\n",
        "print(\"People's info in a year's time:\")\n",
        "print(people_in_a_year)"
      ]
    }
  ],
  "metadata": {
    "kernelspec": {
      "display_name": "Python 3 (ipykernel)",
      "language": "python",
      "name": "python3"
    },
    "language_info": {
      "codemirror_mode": {
        "name": "ipython",
        "version": 3
      },
      "file_extension": ".py",
      "mimetype": "text/x-python",
      "name": "python",
      "nbconvert_exporter": "python",
      "pygments_lexer": "ipython3",
      "version": "3.9.13"
    },
    "toc": {
      "base_numbering": 1,
      "nav_menu": {},
      "number_sections": false,
      "sideBar": true,
      "skip_h1_title": false,
      "title_cell": "Table of Contents",
      "title_sidebar": "Contents",
      "toc_cell": false,
      "toc_position": {},
      "toc_section_display": true,
      "toc_window_display": true
    },
    "varInspector": {
      "cols": {
        "lenName": 16,
        "lenType": 16,
        "lenVar": 40
      },
      "kernels_config": {
        "python": {
          "delete_cmd_postfix": "",
          "delete_cmd_prefix": "del ",
          "library": "var_list.py",
          "varRefreshCmd": "print(var_dic_list())"
        },
        "r": {
          "delete_cmd_postfix": ") ",
          "delete_cmd_prefix": "rm(",
          "library": "var_list.r",
          "varRefreshCmd": "cat(var_dic_list()) "
        }
      },
      "types_to_exclude": [
        "module",
        "function",
        "builtin_function_or_method",
        "instance",
        "_Feature"
      ],
      "window_display": false
    },
    "vscode": {
      "interpreter": {
        "hash": "aee8b7b246df8f9039afb4144a1f6fd8d2ca17a180786b69acc140d282b71a49"
      }
    },
    "colab": {
      "provenance": []
    }
  },
  "nbformat": 4,
  "nbformat_minor": 0
}